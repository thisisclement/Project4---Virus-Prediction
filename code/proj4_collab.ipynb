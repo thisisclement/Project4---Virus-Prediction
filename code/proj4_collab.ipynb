{
 "cells": [
  {
   "cell_type": "markdown",
   "metadata": {},
   "source": [
    "# Project 4 - Virus Prediction"
   ]
  },
  {
   "cell_type": "code",
   "execution_count": 5,
   "metadata": {},
   "outputs": [],
   "source": [
    "import pandas as pd\n",
    "import matplotlib.pyplot as plt\n",
    "import seaborn as sns\n",
    "from datetime import date, timedelta\n",
    "from math import sin, cos, sqrt, atan2, radians\n",
    "\n",
    "\n",
    "%matplotlib inline"
   ]
  },
  {
   "cell_type": "code",
   "execution_count": 2,
   "metadata": {},
   "outputs": [],
   "source": [
    "pd.set_option('display.max_columns', 500)"
   ]
  },
  {
   "cell_type": "markdown",
   "metadata": {},
   "source": [
    "## Data Cleaning and preprocessing"
   ]
  },
  {
   "cell_type": "markdown",
   "metadata": {},
   "source": [
    "### Weather\n",
    "\n",
    "Station 1: CHICAGO O'HARE INTERNATIONAL AIRPORT Lat: 41.995 Lon: -87.933 Elev: 662 ft. above sea level\n",
    "\n",
    "Station 2: CHICAGO MIDWAY INTL ARPT Lat: 41.786 Lon: -87.752 Elev: 612 ft. above sea level"
   ]
  },
  {
   "cell_type": "code",
   "execution_count": null,
   "metadata": {},
   "outputs": [],
   "source": [
    "#df_weather"
   ]
  },
  {
   "cell_type": "markdown",
   "metadata": {},
   "source": [
    "### Spray"
   ]
  },
  {
   "cell_type": "code",
   "execution_count": null,
   "metadata": {},
   "outputs": [],
   "source": [
    "#df_spray"
   ]
  },
  {
   "cell_type": "markdown",
   "metadata": {},
   "source": [
    "### Train"
   ]
  },
  {
   "cell_type": "code",
   "execution_count": 52,
   "metadata": {},
   "outputs": [],
   "source": [
    "df_tr = pd.read_csv('../assets/train.csv')"
   ]
  },
  {
   "cell_type": "code",
   "execution_count": 53,
   "metadata": {},
   "outputs": [
    {
     "data": {
      "text/plain": [
       "(10506, 12)"
      ]
     },
     "execution_count": 53,
     "metadata": {},
     "output_type": "execute_result"
    }
   ],
   "source": [
    "df_tr.shape"
   ]
  },
  {
   "cell_type": "code",
   "execution_count": 54,
   "metadata": {
    "scrolled": true
   },
   "outputs": [
    {
     "data": {
      "text/html": [
       "<div>\n",
       "<style scoped>\n",
       "    .dataframe tbody tr th:only-of-type {\n",
       "        vertical-align: middle;\n",
       "    }\n",
       "\n",
       "    .dataframe tbody tr th {\n",
       "        vertical-align: top;\n",
       "    }\n",
       "\n",
       "    .dataframe thead th {\n",
       "        text-align: right;\n",
       "    }\n",
       "</style>\n",
       "<table border=\"1\" class=\"dataframe\">\n",
       "  <thead>\n",
       "    <tr style=\"text-align: right;\">\n",
       "      <th></th>\n",
       "      <th>Date</th>\n",
       "      <th>Address</th>\n",
       "      <th>Species</th>\n",
       "      <th>Block</th>\n",
       "      <th>Street</th>\n",
       "      <th>Trap</th>\n",
       "      <th>AddressNumberAndStreet</th>\n",
       "      <th>Latitude</th>\n",
       "      <th>Longitude</th>\n",
       "      <th>AddressAccuracy</th>\n",
       "      <th>NumMosquitos</th>\n",
       "      <th>WnvPresent</th>\n",
       "    </tr>\n",
       "  </thead>\n",
       "  <tbody>\n",
       "    <tr>\n",
       "      <th>0</th>\n",
       "      <td>2007-05-29</td>\n",
       "      <td>4100 North Oak Park Avenue, Chicago, IL 60634,...</td>\n",
       "      <td>CULEX PIPIENS/RESTUANS</td>\n",
       "      <td>41</td>\n",
       "      <td>N OAK PARK AVE</td>\n",
       "      <td>T002</td>\n",
       "      <td>4100  N OAK PARK AVE, Chicago, IL</td>\n",
       "      <td>41.954690</td>\n",
       "      <td>-87.800991</td>\n",
       "      <td>9</td>\n",
       "      <td>1</td>\n",
       "      <td>0</td>\n",
       "    </tr>\n",
       "    <tr>\n",
       "      <th>1</th>\n",
       "      <td>2007-05-29</td>\n",
       "      <td>4100 North Oak Park Avenue, Chicago, IL 60634,...</td>\n",
       "      <td>CULEX RESTUANS</td>\n",
       "      <td>41</td>\n",
       "      <td>N OAK PARK AVE</td>\n",
       "      <td>T002</td>\n",
       "      <td>4100  N OAK PARK AVE, Chicago, IL</td>\n",
       "      <td>41.954690</td>\n",
       "      <td>-87.800991</td>\n",
       "      <td>9</td>\n",
       "      <td>1</td>\n",
       "      <td>0</td>\n",
       "    </tr>\n",
       "    <tr>\n",
       "      <th>2</th>\n",
       "      <td>2007-05-29</td>\n",
       "      <td>6200 North Mandell Avenue, Chicago, IL 60646, USA</td>\n",
       "      <td>CULEX RESTUANS</td>\n",
       "      <td>62</td>\n",
       "      <td>N MANDELL AVE</td>\n",
       "      <td>T007</td>\n",
       "      <td>6200  N MANDELL AVE, Chicago, IL</td>\n",
       "      <td>41.994991</td>\n",
       "      <td>-87.769279</td>\n",
       "      <td>9</td>\n",
       "      <td>1</td>\n",
       "      <td>0</td>\n",
       "    </tr>\n",
       "    <tr>\n",
       "      <th>3</th>\n",
       "      <td>2007-05-29</td>\n",
       "      <td>7900 West Foster Avenue, Chicago, IL 60656, USA</td>\n",
       "      <td>CULEX PIPIENS/RESTUANS</td>\n",
       "      <td>79</td>\n",
       "      <td>W FOSTER AVE</td>\n",
       "      <td>T015</td>\n",
       "      <td>7900  W FOSTER AVE, Chicago, IL</td>\n",
       "      <td>41.974089</td>\n",
       "      <td>-87.824812</td>\n",
       "      <td>8</td>\n",
       "      <td>1</td>\n",
       "      <td>0</td>\n",
       "    </tr>\n",
       "    <tr>\n",
       "      <th>4</th>\n",
       "      <td>2007-05-29</td>\n",
       "      <td>7900 West Foster Avenue, Chicago, IL 60656, USA</td>\n",
       "      <td>CULEX RESTUANS</td>\n",
       "      <td>79</td>\n",
       "      <td>W FOSTER AVE</td>\n",
       "      <td>T015</td>\n",
       "      <td>7900  W FOSTER AVE, Chicago, IL</td>\n",
       "      <td>41.974089</td>\n",
       "      <td>-87.824812</td>\n",
       "      <td>8</td>\n",
       "      <td>4</td>\n",
       "      <td>0</td>\n",
       "    </tr>\n",
       "  </tbody>\n",
       "</table>\n",
       "</div>"
      ],
      "text/plain": [
       "         Date                                            Address  \\\n",
       "0  2007-05-29  4100 North Oak Park Avenue, Chicago, IL 60634,...   \n",
       "1  2007-05-29  4100 North Oak Park Avenue, Chicago, IL 60634,...   \n",
       "2  2007-05-29  6200 North Mandell Avenue, Chicago, IL 60646, USA   \n",
       "3  2007-05-29    7900 West Foster Avenue, Chicago, IL 60656, USA   \n",
       "4  2007-05-29    7900 West Foster Avenue, Chicago, IL 60656, USA   \n",
       "\n",
       "                  Species  Block           Street  Trap  \\\n",
       "0  CULEX PIPIENS/RESTUANS     41   N OAK PARK AVE  T002   \n",
       "1          CULEX RESTUANS     41   N OAK PARK AVE  T002   \n",
       "2          CULEX RESTUANS     62    N MANDELL AVE  T007   \n",
       "3  CULEX PIPIENS/RESTUANS     79     W FOSTER AVE  T015   \n",
       "4          CULEX RESTUANS     79     W FOSTER AVE  T015   \n",
       "\n",
       "              AddressNumberAndStreet   Latitude  Longitude  AddressAccuracy  \\\n",
       "0  4100  N OAK PARK AVE, Chicago, IL  41.954690 -87.800991                9   \n",
       "1  4100  N OAK PARK AVE, Chicago, IL  41.954690 -87.800991                9   \n",
       "2   6200  N MANDELL AVE, Chicago, IL  41.994991 -87.769279                9   \n",
       "3    7900  W FOSTER AVE, Chicago, IL  41.974089 -87.824812                8   \n",
       "4    7900  W FOSTER AVE, Chicago, IL  41.974089 -87.824812                8   \n",
       "\n",
       "   NumMosquitos  WnvPresent  \n",
       "0             1           0  \n",
       "1             1           0  \n",
       "2             1           0  \n",
       "3             1           0  \n",
       "4             4           0  "
      ]
     },
     "execution_count": 54,
     "metadata": {},
     "output_type": "execute_result"
    }
   ],
   "source": [
    "df_tr.head()"
   ]
  },
  {
   "cell_type": "code",
   "execution_count": 59,
   "metadata": {},
   "outputs": [],
   "source": [
    "df_tr['Date'] = pd.to_datetime(df_tr['Date'])"
   ]
  },
  {
   "cell_type": "markdown",
   "metadata": {},
   "source": [
    "### Test"
   ]
  },
  {
   "cell_type": "code",
   "execution_count": 71,
   "metadata": {},
   "outputs": [],
   "source": [
    "df_tst = pd.read_csv('../assets/test.csv')"
   ]
  },
  {
   "cell_type": "code",
   "execution_count": 72,
   "metadata": {},
   "outputs": [
    {
     "data": {
      "text/plain": [
       "(116293, 11)"
      ]
     },
     "execution_count": 72,
     "metadata": {},
     "output_type": "execute_result"
    }
   ],
   "source": [
    "df_tst.shape"
   ]
  },
  {
   "cell_type": "code",
   "execution_count": 73,
   "metadata": {},
   "outputs": [],
   "source": [
    "df_tst['Date'] = pd.to_datetime(dr_tst['Date'])"
   ]
  },
  {
   "cell_type": "code",
   "execution_count": null,
   "metadata": {},
   "outputs": [],
   "source": [
    "#df_tst_full"
   ]
  },
  {
   "cell_type": "markdown",
   "metadata": {},
   "source": [
    "### Combined dataset"
   ]
  },
  {
   "cell_type": "code",
   "execution_count": 50,
   "metadata": {},
   "outputs": [],
   "source": [
    "df_tr_full = pd.read_csv('../assets/df_tr_full.csv') "
   ]
  },
  {
   "cell_type": "code",
   "execution_count": 51,
   "metadata": {},
   "outputs": [
    {
     "data": {
      "text/html": [
       "<div>\n",
       "<style scoped>\n",
       "    .dataframe tbody tr th:only-of-type {\n",
       "        vertical-align: middle;\n",
       "    }\n",
       "\n",
       "    .dataframe tbody tr th {\n",
       "        vertical-align: top;\n",
       "    }\n",
       "\n",
       "    .dataframe thead th {\n",
       "        text-align: right;\n",
       "    }\n",
       "</style>\n",
       "<table border=\"1\" class=\"dataframe\">\n",
       "  <thead>\n",
       "    <tr style=\"text-align: right;\">\n",
       "      <th></th>\n",
       "      <th>Date</th>\n",
       "      <th>month</th>\n",
       "      <th>year</th>\n",
       "      <th>Block</th>\n",
       "      <th>Latitude</th>\n",
       "      <th>Longitude</th>\n",
       "      <th>Street</th>\n",
       "      <th>Trap</th>\n",
       "      <th>Tmax</th>\n",
       "      <th>Tmin</th>\n",
       "      <th>Tavg</th>\n",
       "      <th>DewPoint</th>\n",
       "      <th>dew_point_depression</th>\n",
       "      <th>WetBulb</th>\n",
       "      <th>wet_bulb_depression</th>\n",
       "      <th>Heat</th>\n",
       "      <th>Cool</th>\n",
       "      <th>relative_humidity</th>\n",
       "      <th>Sunrise</th>\n",
       "      <th>Sunset</th>\n",
       "      <th>daytime</th>\n",
       "      <th>Species</th>\n",
       "      <th>WnvPresent</th>\n",
       "      <th>PrecipTotal</th>\n",
       "      <th>StnPressure</th>\n",
       "      <th>ResultSpeed</th>\n",
       "      <th>ResultDir</th>\n",
       "      <th>VCTS</th>\n",
       "      <th>RA</th>\n",
       "      <th>HZ</th>\n",
       "      <th>BR</th>\n",
       "      <th>FG</th>\n",
       "      <th>DZ</th>\n",
       "      <th>TSRA</th>\n",
       "      <th>TS</th>\n",
       "    </tr>\n",
       "  </thead>\n",
       "  <tbody>\n",
       "    <tr>\n",
       "      <th>0</th>\n",
       "      <td>2007-05-29</td>\n",
       "      <td>5</td>\n",
       "      <td>2007</td>\n",
       "      <td>41</td>\n",
       "      <td>41.954690</td>\n",
       "      <td>-87.800991</td>\n",
       "      <td>N OAK PARK AVE</td>\n",
       "      <td>T002</td>\n",
       "      <td>88</td>\n",
       "      <td>60</td>\n",
       "      <td>74.0</td>\n",
       "      <td>58</td>\n",
       "      <td>16.0</td>\n",
       "      <td>65.0</td>\n",
       "      <td>9.0</td>\n",
       "      <td>0.0</td>\n",
       "      <td>9.0</td>\n",
       "      <td>57</td>\n",
       "      <td>0 days 04:21:00.000000000</td>\n",
       "      <td>0 days 19:17:00.000000000</td>\n",
       "      <td>0 days 14:56:00.000000000</td>\n",
       "      <td>CULEX PIPIENS/RESTUANS</td>\n",
       "      <td>0.0</td>\n",
       "      <td>0.0</td>\n",
       "      <td>29.39</td>\n",
       "      <td>5.8</td>\n",
       "      <td>18</td>\n",
       "      <td>0</td>\n",
       "      <td>0</td>\n",
       "      <td>1</td>\n",
       "      <td>1</td>\n",
       "      <td>0</td>\n",
       "      <td>0</td>\n",
       "      <td>0</td>\n",
       "      <td>0</td>\n",
       "    </tr>\n",
       "    <tr>\n",
       "      <th>1</th>\n",
       "      <td>2007-05-29</td>\n",
       "      <td>5</td>\n",
       "      <td>2007</td>\n",
       "      <td>41</td>\n",
       "      <td>41.954690</td>\n",
       "      <td>-87.800991</td>\n",
       "      <td>N OAK PARK AVE</td>\n",
       "      <td>T002</td>\n",
       "      <td>88</td>\n",
       "      <td>60</td>\n",
       "      <td>74.0</td>\n",
       "      <td>58</td>\n",
       "      <td>16.0</td>\n",
       "      <td>65.0</td>\n",
       "      <td>9.0</td>\n",
       "      <td>0.0</td>\n",
       "      <td>9.0</td>\n",
       "      <td>57</td>\n",
       "      <td>0 days 04:21:00.000000000</td>\n",
       "      <td>0 days 19:17:00.000000000</td>\n",
       "      <td>0 days 14:56:00.000000000</td>\n",
       "      <td>CULEX RESTUANS</td>\n",
       "      <td>0.0</td>\n",
       "      <td>0.0</td>\n",
       "      <td>29.39</td>\n",
       "      <td>5.8</td>\n",
       "      <td>18</td>\n",
       "      <td>0</td>\n",
       "      <td>0</td>\n",
       "      <td>1</td>\n",
       "      <td>1</td>\n",
       "      <td>0</td>\n",
       "      <td>0</td>\n",
       "      <td>0</td>\n",
       "      <td>0</td>\n",
       "    </tr>\n",
       "    <tr>\n",
       "      <th>2</th>\n",
       "      <td>2007-05-29</td>\n",
       "      <td>5</td>\n",
       "      <td>2007</td>\n",
       "      <td>62</td>\n",
       "      <td>41.994991</td>\n",
       "      <td>-87.769279</td>\n",
       "      <td>N MANDELL AVE</td>\n",
       "      <td>T007</td>\n",
       "      <td>88</td>\n",
       "      <td>60</td>\n",
       "      <td>74.0</td>\n",
       "      <td>58</td>\n",
       "      <td>16.0</td>\n",
       "      <td>65.0</td>\n",
       "      <td>9.0</td>\n",
       "      <td>0.0</td>\n",
       "      <td>9.0</td>\n",
       "      <td>57</td>\n",
       "      <td>0 days 04:21:00.000000000</td>\n",
       "      <td>0 days 19:17:00.000000000</td>\n",
       "      <td>0 days 14:56:00.000000000</td>\n",
       "      <td>CULEX RESTUANS</td>\n",
       "      <td>0.0</td>\n",
       "      <td>0.0</td>\n",
       "      <td>29.39</td>\n",
       "      <td>5.8</td>\n",
       "      <td>18</td>\n",
       "      <td>0</td>\n",
       "      <td>0</td>\n",
       "      <td>1</td>\n",
       "      <td>1</td>\n",
       "      <td>0</td>\n",
       "      <td>0</td>\n",
       "      <td>0</td>\n",
       "      <td>0</td>\n",
       "    </tr>\n",
       "    <tr>\n",
       "      <th>3</th>\n",
       "      <td>2007-05-29</td>\n",
       "      <td>5</td>\n",
       "      <td>2007</td>\n",
       "      <td>79</td>\n",
       "      <td>41.974089</td>\n",
       "      <td>-87.824812</td>\n",
       "      <td>W FOSTER AVE</td>\n",
       "      <td>T015</td>\n",
       "      <td>88</td>\n",
       "      <td>60</td>\n",
       "      <td>74.0</td>\n",
       "      <td>58</td>\n",
       "      <td>16.0</td>\n",
       "      <td>65.0</td>\n",
       "      <td>9.0</td>\n",
       "      <td>0.0</td>\n",
       "      <td>9.0</td>\n",
       "      <td>57</td>\n",
       "      <td>0 days 04:21:00.000000000</td>\n",
       "      <td>0 days 19:17:00.000000000</td>\n",
       "      <td>0 days 14:56:00.000000000</td>\n",
       "      <td>CULEX PIPIENS/RESTUANS</td>\n",
       "      <td>0.0</td>\n",
       "      <td>0.0</td>\n",
       "      <td>29.39</td>\n",
       "      <td>5.8</td>\n",
       "      <td>18</td>\n",
       "      <td>0</td>\n",
       "      <td>0</td>\n",
       "      <td>1</td>\n",
       "      <td>1</td>\n",
       "      <td>0</td>\n",
       "      <td>0</td>\n",
       "      <td>0</td>\n",
       "      <td>0</td>\n",
       "    </tr>\n",
       "    <tr>\n",
       "      <th>4</th>\n",
       "      <td>2007-05-29</td>\n",
       "      <td>5</td>\n",
       "      <td>2007</td>\n",
       "      <td>79</td>\n",
       "      <td>41.974089</td>\n",
       "      <td>-87.824812</td>\n",
       "      <td>W FOSTER AVE</td>\n",
       "      <td>T015</td>\n",
       "      <td>88</td>\n",
       "      <td>60</td>\n",
       "      <td>74.0</td>\n",
       "      <td>58</td>\n",
       "      <td>16.0</td>\n",
       "      <td>65.0</td>\n",
       "      <td>9.0</td>\n",
       "      <td>0.0</td>\n",
       "      <td>9.0</td>\n",
       "      <td>57</td>\n",
       "      <td>0 days 04:21:00.000000000</td>\n",
       "      <td>0 days 19:17:00.000000000</td>\n",
       "      <td>0 days 14:56:00.000000000</td>\n",
       "      <td>CULEX RESTUANS</td>\n",
       "      <td>0.0</td>\n",
       "      <td>0.0</td>\n",
       "      <td>29.39</td>\n",
       "      <td>5.8</td>\n",
       "      <td>18</td>\n",
       "      <td>0</td>\n",
       "      <td>0</td>\n",
       "      <td>1</td>\n",
       "      <td>1</td>\n",
       "      <td>0</td>\n",
       "      <td>0</td>\n",
       "      <td>0</td>\n",
       "      <td>0</td>\n",
       "    </tr>\n",
       "  </tbody>\n",
       "</table>\n",
       "</div>"
      ],
      "text/plain": [
       "         Date  month  year  Block   Latitude  Longitude           Street  \\\n",
       "0  2007-05-29      5  2007     41  41.954690 -87.800991   N OAK PARK AVE   \n",
       "1  2007-05-29      5  2007     41  41.954690 -87.800991   N OAK PARK AVE   \n",
       "2  2007-05-29      5  2007     62  41.994991 -87.769279    N MANDELL AVE   \n",
       "3  2007-05-29      5  2007     79  41.974089 -87.824812     W FOSTER AVE   \n",
       "4  2007-05-29      5  2007     79  41.974089 -87.824812     W FOSTER AVE   \n",
       "\n",
       "   Trap  Tmax  Tmin  Tavg  DewPoint  dew_point_depression  WetBulb  \\\n",
       "0  T002    88    60  74.0        58                  16.0     65.0   \n",
       "1  T002    88    60  74.0        58                  16.0     65.0   \n",
       "2  T007    88    60  74.0        58                  16.0     65.0   \n",
       "3  T015    88    60  74.0        58                  16.0     65.0   \n",
       "4  T015    88    60  74.0        58                  16.0     65.0   \n",
       "\n",
       "   wet_bulb_depression  Heat  Cool  relative_humidity  \\\n",
       "0                  9.0   0.0   9.0                 57   \n",
       "1                  9.0   0.0   9.0                 57   \n",
       "2                  9.0   0.0   9.0                 57   \n",
       "3                  9.0   0.0   9.0                 57   \n",
       "4                  9.0   0.0   9.0                 57   \n",
       "\n",
       "                     Sunrise                     Sunset  \\\n",
       "0  0 days 04:21:00.000000000  0 days 19:17:00.000000000   \n",
       "1  0 days 04:21:00.000000000  0 days 19:17:00.000000000   \n",
       "2  0 days 04:21:00.000000000  0 days 19:17:00.000000000   \n",
       "3  0 days 04:21:00.000000000  0 days 19:17:00.000000000   \n",
       "4  0 days 04:21:00.000000000  0 days 19:17:00.000000000   \n",
       "\n",
       "                     daytime                 Species  WnvPresent  PrecipTotal  \\\n",
       "0  0 days 14:56:00.000000000  CULEX PIPIENS/RESTUANS         0.0          0.0   \n",
       "1  0 days 14:56:00.000000000          CULEX RESTUANS         0.0          0.0   \n",
       "2  0 days 14:56:00.000000000          CULEX RESTUANS         0.0          0.0   \n",
       "3  0 days 14:56:00.000000000  CULEX PIPIENS/RESTUANS         0.0          0.0   \n",
       "4  0 days 14:56:00.000000000          CULEX RESTUANS         0.0          0.0   \n",
       "\n",
       "   StnPressure  ResultSpeed  ResultDir  VCTS  RA  HZ  BR  FG  DZ  TSRA  TS  \n",
       "0        29.39          5.8         18     0   0   1   1   0   0     0   0  \n",
       "1        29.39          5.8         18     0   0   1   1   0   0     0   0  \n",
       "2        29.39          5.8         18     0   0   1   1   0   0     0   0  \n",
       "3        29.39          5.8         18     0   0   1   1   0   0     0   0  \n",
       "4        29.39          5.8         18     0   0   1   1   0   0     0   0  "
      ]
     },
     "execution_count": 51,
     "metadata": {},
     "output_type": "execute_result"
    }
   ],
   "source": [
    "df_tr_full.head()"
   ]
  },
  {
   "cell_type": "code",
   "execution_count": 7,
   "metadata": {},
   "outputs": [
    {
     "data": {
      "text/plain": [
       "(10506, 35)"
      ]
     },
     "execution_count": 7,
     "metadata": {},
     "output_type": "execute_result"
    }
   ],
   "source": [
    "df_tr_full.shape"
   ]
  },
  {
   "cell_type": "code",
   "execution_count": 58,
   "metadata": {},
   "outputs": [],
   "source": [
    "df_tr_full[\"Date\"] = pd.to_datetime(df_tr_full['Date'])"
   ]
  },
  {
   "cell_type": "markdown",
   "metadata": {},
   "source": [
    "## EDA"
   ]
  },
  {
   "cell_type": "markdown",
   "metadata": {},
   "source": [
    "### Weather station distance to observations - Clement"
   ]
  },
  {
   "cell_type": "code",
   "execution_count": 6,
   "metadata": {},
   "outputs": [],
   "source": [
    "def calc_dist_chk(lat1, lon1, lat2, lon2):\n",
    "    # approximate radius of earth in km\n",
    "    R = 6373.0\n",
    "\n",
    "    lat1 = radians(lat1)\n",
    "    lon1 = radians(lon1)\n",
    "    lat2 = radians(lat2)\n",
    "    lon2 = radians(lon2)\n",
    "\n",
    "    dlon = lon2 - lon1\n",
    "    dlat = lat2 - lat1\n",
    "\n",
    "    #formula calc distance between two points \n",
    "    #haversine formula\n",
    "    a = sin(dlat / 2)**2 + cos(lat1) * cos(lat2) * sin(dlon / 2)**2\n",
    "    c = 2 * atan2(sqrt(a), sqrt(1 - a))\n",
    "    \n",
    "    #distance in km\n",
    "    distance = R * c\n",
    "\n",
    "    return round(distance, 4)"
   ]
  },
  {
   "cell_type": "code",
   "execution_count": 34,
   "metadata": {
    "scrolled": true
   },
   "outputs": [],
   "source": [
    "def check_dist_station(df):\n",
    "    #checking distance from station\n",
    "    station1_wea = (41.995, -87.933)\n",
    "    station2_wea = (41.786, -87.752)\n",
    "    nearest_station1_list = []\n",
    "\n",
    "    for i  in range(df.shape[0]): #loop thru data\n",
    "        train_date = df.loc[i, :]['Date'] \n",
    "        train_lat = df.loc[i, 'Latitude']\n",
    "        train_lon = df.loc[i, 'Longitude']\n",
    "        dist_station1 = calc_dist_chk(station1_wea[0], station1_wea[1], train_lat, train_lon)\n",
    "        dist_station2 = calc_dist_chk(station2_wea[0], station2_wea[1], train_lat, train_lon)\n",
    "        if dist_station1 <= dist_station2:\n",
    "            nearest_station1_list.append(1)\n",
    "        else:\n",
    "            nearest_station1_list.append(0)\n",
    "\n",
    "#         if i%1000 == 0:\n",
    "#             print(f\"Loop {i}..\")\n",
    "\n",
    "    return nearest_station1_list"
   ]
  },
  {
   "cell_type": "code",
   "execution_count": 61,
   "metadata": {
    "scrolled": true
   },
   "outputs": [
    {
     "name": "stdout",
     "output_type": "stream",
     "text": [
      "Loop 0..\n",
      "Loop 1000..\n",
      "Loop 2000..\n",
      "Loop 3000..\n",
      "Loop 4000..\n",
      "Loop 5000..\n",
      "Loop 6000..\n",
      "Loop 7000..\n",
      "Loop 8000..\n",
      "Loop 9000..\n",
      "Loop 10000..\n"
     ]
    }
   ],
   "source": [
    "df_tr['near_sta1'] = check_dist_station(df_tr)"
   ]
  },
  {
   "cell_type": "code",
   "execution_count": 62,
   "metadata": {
    "scrolled": true
   },
   "outputs": [
    {
     "data": {
      "text/plain": [
       "(10506, 13)"
      ]
     },
     "execution_count": 62,
     "metadata": {},
     "output_type": "execute_result"
    }
   ],
   "source": [
    "df_tr.shape"
   ]
  },
  {
   "cell_type": "code",
   "execution_count": 81,
   "metadata": {},
   "outputs": [
    {
     "data": {
      "text/plain": [
       "0    7208\n",
       "1    3298\n",
       "Name: near_sta1, dtype: int64"
      ]
     },
     "execution_count": 81,
     "metadata": {},
     "output_type": "execute_result"
    }
   ],
   "source": [
    "df_tr['near_sta1'].value_counts()"
   ]
  },
  {
   "cell_type": "markdown",
   "metadata": {},
   "source": [
    "__Save to CSV__"
   ]
  },
  {
   "cell_type": "code",
   "execution_count": 82,
   "metadata": {},
   "outputs": [],
   "source": [
    "df_tr.to_csv('../assets/df_tr_weather_sta.csv')"
   ]
  },
  {
   "cell_type": "code",
   "execution_count": 74,
   "metadata": {
    "scrolled": true
   },
   "outputs": [
    {
     "name": "stdout",
     "output_type": "stream",
     "text": [
      "Loop 0..\n",
      "Loop 1000..\n",
      "Loop 2000..\n",
      "Loop 3000..\n",
      "Loop 4000..\n",
      "Loop 5000..\n",
      "Loop 6000..\n",
      "Loop 7000..\n",
      "Loop 8000..\n",
      "Loop 9000..\n",
      "Loop 10000..\n",
      "Loop 11000..\n",
      "Loop 12000..\n",
      "Loop 13000..\n",
      "Loop 14000..\n",
      "Loop 15000..\n",
      "Loop 16000..\n",
      "Loop 17000..\n",
      "Loop 18000..\n",
      "Loop 19000..\n",
      "Loop 20000..\n",
      "Loop 21000..\n",
      "Loop 22000..\n",
      "Loop 23000..\n",
      "Loop 24000..\n",
      "Loop 25000..\n",
      "Loop 26000..\n",
      "Loop 27000..\n",
      "Loop 28000..\n",
      "Loop 29000..\n",
      "Loop 30000..\n",
      "Loop 31000..\n",
      "Loop 32000..\n",
      "Loop 33000..\n",
      "Loop 34000..\n",
      "Loop 35000..\n",
      "Loop 36000..\n",
      "Loop 37000..\n",
      "Loop 38000..\n",
      "Loop 39000..\n",
      "Loop 40000..\n",
      "Loop 41000..\n",
      "Loop 42000..\n",
      "Loop 43000..\n",
      "Loop 44000..\n",
      "Loop 45000..\n",
      "Loop 46000..\n",
      "Loop 47000..\n",
      "Loop 48000..\n",
      "Loop 49000..\n",
      "Loop 50000..\n",
      "Loop 51000..\n",
      "Loop 52000..\n",
      "Loop 53000..\n",
      "Loop 54000..\n",
      "Loop 55000..\n",
      "Loop 56000..\n",
      "Loop 57000..\n",
      "Loop 58000..\n",
      "Loop 59000..\n",
      "Loop 60000..\n",
      "Loop 61000..\n",
      "Loop 62000..\n",
      "Loop 63000..\n",
      "Loop 64000..\n",
      "Loop 65000..\n",
      "Loop 66000..\n",
      "Loop 67000..\n",
      "Loop 68000..\n",
      "Loop 69000..\n",
      "Loop 70000..\n",
      "Loop 71000..\n",
      "Loop 72000..\n",
      "Loop 73000..\n",
      "Loop 74000..\n",
      "Loop 75000..\n",
      "Loop 76000..\n",
      "Loop 77000..\n",
      "Loop 78000..\n",
      "Loop 79000..\n",
      "Loop 80000..\n",
      "Loop 81000..\n",
      "Loop 82000..\n",
      "Loop 83000..\n",
      "Loop 84000..\n",
      "Loop 85000..\n",
      "Loop 86000..\n",
      "Loop 87000..\n",
      "Loop 88000..\n",
      "Loop 89000..\n",
      "Loop 90000..\n",
      "Loop 91000..\n",
      "Loop 92000..\n",
      "Loop 93000..\n",
      "Loop 94000..\n",
      "Loop 95000..\n",
      "Loop 96000..\n",
      "Loop 97000..\n",
      "Loop 98000..\n",
      "Loop 99000..\n",
      "Loop 100000..\n",
      "Loop 101000..\n",
      "Loop 102000..\n",
      "Loop 103000..\n",
      "Loop 104000..\n",
      "Loop 105000..\n",
      "Loop 106000..\n",
      "Loop 107000..\n",
      "Loop 108000..\n",
      "Loop 109000..\n",
      "Loop 110000..\n",
      "Loop 111000..\n",
      "Loop 112000..\n",
      "Loop 113000..\n",
      "Loop 114000..\n",
      "Loop 115000..\n",
      "Loop 116000..\n"
     ]
    }
   ],
   "source": [
    "df_tst['near_sta1'] = check_dist_station(df_tst)"
   ]
  },
  {
   "cell_type": "code",
   "execution_count": 80,
   "metadata": {},
   "outputs": [
    {
     "data": {
      "text/plain": [
       "0    80892\n",
       "1    35401\n",
       "Name: near_sta1, dtype: int64"
      ]
     },
     "execution_count": 80,
     "metadata": {},
     "output_type": "execute_result"
    }
   ],
   "source": [
    "df_tst['near_sta1'].value_counts()"
   ]
  },
  {
   "cell_type": "markdown",
   "metadata": {},
   "source": [
    "__Save to CSV__"
   ]
  },
  {
   "cell_type": "code",
   "execution_count": 83,
   "metadata": {},
   "outputs": [],
   "source": [
    "df_tst.to_csv('../assets/df_tst_weather_sta.csv')"
   ]
  },
  {
   "cell_type": "markdown",
   "metadata": {},
   "source": [
    "__Verification for distance__"
   ]
  },
  {
   "cell_type": "code",
   "execution_count": 45,
   "metadata": {
    "scrolled": true
   },
   "outputs": [
    {
     "data": {
      "text/html": [
       "<div>\n",
       "<style scoped>\n",
       "    .dataframe tbody tr th:only-of-type {\n",
       "        vertical-align: middle;\n",
       "    }\n",
       "\n",
       "    .dataframe tbody tr th {\n",
       "        vertical-align: top;\n",
       "    }\n",
       "\n",
       "    .dataframe thead th {\n",
       "        text-align: right;\n",
       "    }\n",
       "</style>\n",
       "<table border=\"1\" class=\"dataframe\">\n",
       "  <thead>\n",
       "    <tr style=\"text-align: right;\">\n",
       "      <th></th>\n",
       "      <th>Date</th>\n",
       "      <th>month</th>\n",
       "      <th>year</th>\n",
       "      <th>Block</th>\n",
       "      <th>Latitude</th>\n",
       "      <th>Longitude</th>\n",
       "      <th>near_sta1</th>\n",
       "    </tr>\n",
       "  </thead>\n",
       "  <tbody>\n",
       "    <tr>\n",
       "      <th>0</th>\n",
       "      <td>2007-05-29</td>\n",
       "      <td>5</td>\n",
       "      <td>2007</td>\n",
       "      <td>41</td>\n",
       "      <td>41.954690</td>\n",
       "      <td>-87.800991</td>\n",
       "      <td>1</td>\n",
       "    </tr>\n",
       "    <tr>\n",
       "      <th>1</th>\n",
       "      <td>2007-05-29</td>\n",
       "      <td>5</td>\n",
       "      <td>2007</td>\n",
       "      <td>41</td>\n",
       "      <td>41.954690</td>\n",
       "      <td>-87.800991</td>\n",
       "      <td>1</td>\n",
       "    </tr>\n",
       "    <tr>\n",
       "      <th>2</th>\n",
       "      <td>2007-05-29</td>\n",
       "      <td>5</td>\n",
       "      <td>2007</td>\n",
       "      <td>62</td>\n",
       "      <td>41.994991</td>\n",
       "      <td>-87.769279</td>\n",
       "      <td>1</td>\n",
       "    </tr>\n",
       "    <tr>\n",
       "      <th>3</th>\n",
       "      <td>2007-05-29</td>\n",
       "      <td>5</td>\n",
       "      <td>2007</td>\n",
       "      <td>79</td>\n",
       "      <td>41.974089</td>\n",
       "      <td>-87.824812</td>\n",
       "      <td>1</td>\n",
       "    </tr>\n",
       "    <tr>\n",
       "      <th>4</th>\n",
       "      <td>2007-05-29</td>\n",
       "      <td>5</td>\n",
       "      <td>2007</td>\n",
       "      <td>79</td>\n",
       "      <td>41.974089</td>\n",
       "      <td>-87.824812</td>\n",
       "      <td>1</td>\n",
       "    </tr>\n",
       "    <tr>\n",
       "      <th>5</th>\n",
       "      <td>2007-05-29</td>\n",
       "      <td>5</td>\n",
       "      <td>2007</td>\n",
       "      <td>15</td>\n",
       "      <td>41.921600</td>\n",
       "      <td>-87.666455</td>\n",
       "      <td>0</td>\n",
       "    </tr>\n",
       "    <tr>\n",
       "      <th>6</th>\n",
       "      <td>2007-05-29</td>\n",
       "      <td>5</td>\n",
       "      <td>2007</td>\n",
       "      <td>25</td>\n",
       "      <td>41.891118</td>\n",
       "      <td>-87.654491</td>\n",
       "      <td>0</td>\n",
       "    </tr>\n",
       "    <tr>\n",
       "      <th>7</th>\n",
       "      <td>2007-05-29</td>\n",
       "      <td>5</td>\n",
       "      <td>2007</td>\n",
       "      <td>11</td>\n",
       "      <td>41.867108</td>\n",
       "      <td>-87.654224</td>\n",
       "      <td>0</td>\n",
       "    </tr>\n",
       "    <tr>\n",
       "      <th>8</th>\n",
       "      <td>2007-05-29</td>\n",
       "      <td>5</td>\n",
       "      <td>2007</td>\n",
       "      <td>11</td>\n",
       "      <td>41.867108</td>\n",
       "      <td>-87.654224</td>\n",
       "      <td>0</td>\n",
       "    </tr>\n",
       "    <tr>\n",
       "      <th>9</th>\n",
       "      <td>2007-05-29</td>\n",
       "      <td>5</td>\n",
       "      <td>2007</td>\n",
       "      <td>11</td>\n",
       "      <td>41.896282</td>\n",
       "      <td>-87.655232</td>\n",
       "      <td>0</td>\n",
       "    </tr>\n",
       "  </tbody>\n",
       "</table>\n",
       "</div>"
      ],
      "text/plain": [
       "         Date  month  year  Block   Latitude  Longitude  near_sta1\n",
       "0  2007-05-29      5  2007     41  41.954690 -87.800991          1\n",
       "1  2007-05-29      5  2007     41  41.954690 -87.800991          1\n",
       "2  2007-05-29      5  2007     62  41.994991 -87.769279          1\n",
       "3  2007-05-29      5  2007     79  41.974089 -87.824812          1\n",
       "4  2007-05-29      5  2007     79  41.974089 -87.824812          1\n",
       "5  2007-05-29      5  2007     15  41.921600 -87.666455          0\n",
       "6  2007-05-29      5  2007     25  41.891118 -87.654491          0\n",
       "7  2007-05-29      5  2007     11  41.867108 -87.654224          0\n",
       "8  2007-05-29      5  2007     11  41.867108 -87.654224          0\n",
       "9  2007-05-29      5  2007     11  41.896282 -87.655232          0"
      ]
     },
     "execution_count": 45,
     "metadata": {},
     "output_type": "execute_result"
    }
   ],
   "source": [
    "df_tr.loc[:,['Date', 'month', 'year', 'Block', 'Latitude', 'Longitude', 'near_sta1']].head(10)"
   ]
  },
  {
   "cell_type": "code",
   "execution_count": 46,
   "metadata": {
    "scrolled": true
   },
   "outputs": [],
   "source": [
    "station1_wea = (41.995, -87.933)\n",
    "station2_wea = (41.786, -87.752)"
   ]
  },
  {
   "cell_type": "code",
   "execution_count": 47,
   "metadata": {},
   "outputs": [
    {
     "data": {
      "text/plain": [
       "23.5101"
      ]
     },
     "execution_count": 47,
     "metadata": {},
     "output_type": "execute_result"
    }
   ],
   "source": [
    "calc_dist_chk(41.921600, -87.666455, station1_wea[0], station1_wea[1])"
   ]
  },
  {
   "cell_type": "code",
   "execution_count": 48,
   "metadata": {},
   "outputs": [
    {
     "data": {
      "text/plain": [
       "10.8038"
      ]
     },
     "execution_count": 48,
     "metadata": {},
     "output_type": "execute_result"
    }
   ],
   "source": [
    "calc_dist_chk(41.921600, -87.666455, station1_wea[0], station2_wea[1])"
   ]
  },
  {
   "cell_type": "markdown",
   "metadata": {},
   "source": [
    "### Check correlation between spray and WNV - Clement"
   ]
  },
  {
   "cell_type": "code",
   "execution_count": null,
   "metadata": {},
   "outputs": [],
   "source": []
  },
  {
   "cell_type": "code",
   "execution_count": 20,
   "metadata": {},
   "outputs": [
    {
     "ename": "TypeError",
     "evalue": "unsupported operand type(s) for -: 'str' and 'datetime.timedelta'",
     "output_type": "error",
     "traceback": [
      "\u001b[0;31m---------------------------------------------------------------------------\u001b[0m",
      "\u001b[0;31mTypeError\u001b[0m                                 Traceback (most recent call last)",
      "\u001b[0;32m<ipython-input-20-ad9d628e5493>\u001b[0m in \u001b[0;36m<module>\u001b[0;34m\u001b[0m\n\u001b[1;32m      6\u001b[0m \u001b[0;32mfor\u001b[0m \u001b[0mi\u001b[0m  \u001b[0;32min\u001b[0m \u001b[0mrange\u001b[0m\u001b[0;34m(\u001b[0m\u001b[0mwnv_df\u001b[0m\u001b[0;34m.\u001b[0m\u001b[0mshape\u001b[0m\u001b[0;34m[\u001b[0m\u001b[0;36m0\u001b[0m\u001b[0;34m]\u001b[0m\u001b[0;34m)\u001b[0m\u001b[0;34m:\u001b[0m \u001b[0;31m#loop thru train data having WnvPresent\u001b[0m\u001b[0;34m\u001b[0m\u001b[0;34m\u001b[0m\u001b[0m\n\u001b[1;32m      7\u001b[0m     \u001b[0mwnv_date\u001b[0m \u001b[0;34m=\u001b[0m \u001b[0mwnv_df\u001b[0m\u001b[0;34m.\u001b[0m\u001b[0mloc\u001b[0m\u001b[0;34m[\u001b[0m\u001b[0mi\u001b[0m\u001b[0;34m,\u001b[0m \u001b[0;34m:\u001b[0m\u001b[0;34m]\u001b[0m\u001b[0;34m[\u001b[0m\u001b[0;34m'Date'\u001b[0m\u001b[0;34m]\u001b[0m\u001b[0;34m\u001b[0m\u001b[0;34m\u001b[0m\u001b[0m\n\u001b[0;32m----> 8\u001b[0;31m     \u001b[0mtwod_before\u001b[0m \u001b[0;34m=\u001b[0m \u001b[0mwnv_date\u001b[0m \u001b[0;34m-\u001b[0m \u001b[0mtimedelta\u001b[0m\u001b[0;34m(\u001b[0m\u001b[0mdays\u001b[0m\u001b[0;34m=\u001b[0m\u001b[0;36m2\u001b[0m\u001b[0;34m)\u001b[0m\u001b[0;34m\u001b[0m\u001b[0;34m\u001b[0m\u001b[0m\n\u001b[0m\u001b[1;32m      9\u001b[0m     \u001b[0mwnv_lat\u001b[0m \u001b[0;34m=\u001b[0m \u001b[0mwnv_df\u001b[0m\u001b[0;34m.\u001b[0m\u001b[0mloc\u001b[0m\u001b[0;34m[\u001b[0m\u001b[0mi\u001b[0m\u001b[0;34m,\u001b[0m \u001b[0;34m'Latitude'\u001b[0m\u001b[0;34m]\u001b[0m\u001b[0;34m\u001b[0m\u001b[0;34m\u001b[0m\u001b[0m\n\u001b[1;32m     10\u001b[0m     \u001b[0mwnv_lon\u001b[0m \u001b[0;34m=\u001b[0m \u001b[0mwnv_df\u001b[0m\u001b[0;34m.\u001b[0m\u001b[0mloc\u001b[0m\u001b[0;34m[\u001b[0m\u001b[0mi\u001b[0m\u001b[0;34m,\u001b[0m \u001b[0;34m'Longitude'\u001b[0m\u001b[0;34m]\u001b[0m\u001b[0;34m\u001b[0m\u001b[0;34m\u001b[0m\u001b[0m\n",
      "\u001b[0;31mTypeError\u001b[0m: unsupported operand type(s) for -: 'str' and 'datetime.timedelta'"
     ]
    }
   ],
   "source": [
    "#TO FIND POINTS THAT ARE WNVPRESENT AND COINCIDES WITH SPRAY DATES AT MOST 2 DAYS BEFORE\n",
    "\n",
    "suspect_dates = {}\n",
    "wnv_df = df_tr_full[df_tr_full['WnvPresent'] == 1].reset_index()\n",
    "\n",
    "for i  in range(wnv_df.shape[0]): #loop thru train data having WnvPresent\n",
    "    wnv_date = wnv_df.loc[i, :]['Date'] \n",
    "    twod_before = wnv_date - timedelta(days=2)\n",
    "    wnv_lat = wnv_df.loc[i, 'Latitude']\n",
    "    wnv_lon = wnv_df.loc[i, 'Longitude']\n",
    "    \n",
    "    #spray dates coincide with 1-2 days before wnv spotted\n",
    "    spray_coincide = spray[(spray['Date'] >= twod_before) & (spray['Date'] < wnv_date)].reset_index()\n",
    "    if spray_coincide.shape[0] > 0:\n",
    "        for j in range(spray_coincide.shape[0]):\n",
    "            spray_lat = spray_coincide.loc[j, 'Latitude']\n",
    "            spray_lon = spray_coincide.loc[j, 'Longitude']\n",
    "            if calc_dist_chk(wnv_lat, wnv_lon, spray_lat, spray_lon) < 0.5:\n",
    "                suspect_dates[wnv_df.loc[i,'index']] = (wnv_df.loc[i,'Date'],\\\n",
    "                    calc_dist_chk(wnv_lat, wnv_lon, spray_lat, spray_lon), round(wnv_lat,4), round(wnv_lon, 4))"
   ]
  },
  {
   "cell_type": "markdown",
   "metadata": {},
   "source": [
    "### Correlation between weather time lag and WNV - Abi"
   ]
  },
  {
   "cell_type": "markdown",
   "metadata": {},
   "source": [
    "## Modelling - Keith"
   ]
  },
  {
   "cell_type": "code",
   "execution_count": null,
   "metadata": {},
   "outputs": [],
   "source": []
  },
  {
   "cell_type": "code",
   "execution_count": null,
   "metadata": {},
   "outputs": [],
   "source": []
  }
 ],
 "metadata": {
  "kernelspec": {
   "display_name": "Python 3",
   "language": "python",
   "name": "python3"
  },
  "language_info": {
   "codemirror_mode": {
    "name": "ipython",
    "version": 3
   },
   "file_extension": ".py",
   "mimetype": "text/x-python",
   "name": "python",
   "nbconvert_exporter": "python",
   "pygments_lexer": "ipython3",
   "version": "3.7.3"
  },
  "toc": {
   "base_numbering": 1,
   "nav_menu": {
    "height": "220px",
    "width": "364px"
   },
   "number_sections": true,
   "sideBar": true,
   "skip_h1_title": false,
   "title_cell": "Table of Contents",
   "title_sidebar": "Contents",
   "toc_cell": false,
   "toc_position": {},
   "toc_section_display": true,
   "toc_window_display": false
  },
  "varInspector": {
   "cols": {
    "lenName": 16,
    "lenType": 16,
    "lenVar": 40
   },
   "kernels_config": {
    "python": {
     "delete_cmd_postfix": "",
     "delete_cmd_prefix": "del ",
     "library": "var_list.py",
     "varRefreshCmd": "print(var_dic_list())"
    },
    "r": {
     "delete_cmd_postfix": ") ",
     "delete_cmd_prefix": "rm(",
     "library": "var_list.r",
     "varRefreshCmd": "cat(var_dic_list()) "
    }
   },
   "types_to_exclude": [
    "module",
    "function",
    "builtin_function_or_method",
    "instance",
    "_Feature"
   ],
   "window_display": false
  }
 },
 "nbformat": 4,
 "nbformat_minor": 4
}
